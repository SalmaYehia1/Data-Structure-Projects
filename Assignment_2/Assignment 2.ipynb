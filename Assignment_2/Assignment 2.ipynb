{
 "cells": [
  {
   "cell_type": "markdown",
   "metadata": {},
   "source": [
    "# Assignment 1\n"
   ]
  },
  {
   "cell_type": "code",
   "execution_count": null,
   "metadata": {},
   "outputs": [
    {
     "name": "stdout",
     "output_type": "stream",
     "text": [
      "Collecting matplotlib\n",
      "  Using cached matplotlib-3.10.1-cp312-cp312-manylinux_2_17_x86_64.manylinux2014_x86_64.whl.metadata (11 kB)\n",
      "Collecting contourpy>=1.0.1 (from matplotlib)\n",
      "  Using cached contourpy-1.3.1-cp312-cp312-manylinux_2_17_x86_64.manylinux2014_x86_64.whl.metadata (5.4 kB)\n",
      "Collecting cycler>=0.10 (from matplotlib)\n",
      "  Using cached cycler-0.12.1-py3-none-any.whl.metadata (3.8 kB)\n",
      "Collecting fonttools>=4.22.0 (from matplotlib)\n",
      "  Using cached fonttools-4.56.0-cp312-cp312-manylinux_2_5_x86_64.manylinux1_x86_64.manylinux_2_17_x86_64.manylinux2014_x86_64.whl.metadata (101 kB)\n",
      "Collecting kiwisolver>=1.3.1 (from matplotlib)\n",
      "  Using cached kiwisolver-1.4.8-cp312-cp312-manylinux_2_17_x86_64.manylinux2014_x86_64.whl.metadata (6.2 kB)\n",
      "Collecting numpy>=1.23 (from matplotlib)\n",
      "  Using cached numpy-2.2.3-cp312-cp312-manylinux_2_17_x86_64.manylinux2014_x86_64.whl.metadata (62 kB)\n",
      "Requirement already satisfied: packaging>=20.0 in ./.venv/lib/python3.12/site-packages (from matplotlib) (24.2)\n",
      "Collecting pillow>=8 (from matplotlib)\n",
      "  Using cached pillow-11.1.0-cp312-cp312-manylinux_2_28_x86_64.whl.metadata (9.1 kB)\n",
      "Collecting pyparsing>=2.3.1 (from matplotlib)\n",
      "  Using cached pyparsing-3.2.1-py3-none-any.whl.metadata (5.0 kB)\n",
      "Requirement already satisfied: python-dateutil>=2.7 in ./.venv/lib/python3.12/site-packages (from matplotlib) (2.9.0.post0)\n",
      "Requirement already satisfied: six>=1.5 in ./.venv/lib/python3.12/site-packages (from python-dateutil>=2.7->matplotlib) (1.17.0)\n",
      "Using cached matplotlib-3.10.1-cp312-cp312-manylinux_2_17_x86_64.manylinux2014_x86_64.whl (8.6 MB)\n",
      "Using cached contourpy-1.3.1-cp312-cp312-manylinux_2_17_x86_64.manylinux2014_x86_64.whl (323 kB)\n",
      "Using cached cycler-0.12.1-py3-none-any.whl (8.3 kB)\n",
      "Using cached fonttools-4.56.0-cp312-cp312-manylinux_2_5_x86_64.manylinux1_x86_64.manylinux_2_17_x86_64.manylinux2014_x86_64.whl (4.9 MB)\n",
      "Using cached kiwisolver-1.4.8-cp312-cp312-manylinux_2_17_x86_64.manylinux2014_x86_64.whl (1.5 MB)\n",
      "Using cached numpy-2.2.3-cp312-cp312-manylinux_2_17_x86_64.manylinux2014_x86_64.whl (16.1 MB)\n",
      "Using cached pillow-11.1.0-cp312-cp312-manylinux_2_28_x86_64.whl (4.5 MB)\n",
      "Using cached pyparsing-3.2.1-py3-none-any.whl (107 kB)\n",
      "Installing collected packages: pyparsing, pillow, numpy, kiwisolver, fonttools, cycler, contourpy, matplotlib\n",
      "Successfully installed contourpy-1.3.1 cycler-0.12.1 fonttools-4.56.0 kiwisolver-1.4.8 matplotlib-3.10.1 numpy-2.2.3 pillow-11.1.0 pyparsing-3.2.1\n"
     ]
    }
   ],
   "source": [
    "import random\n",
    "import time\n",
    "import matplotlib.pyplot as plt  \n"
   ]
  },
  {
   "cell_type": "code",
   "execution_count": 9,
   "metadata": {},
   "outputs": [],
   "source": [
    "# Generate a random array\n",
    "def generate_random_array(size, min_val=1, max_val=None):\n",
    "    if max_val is None:\n",
    "        max_val = size * 100\n",
    "    return [random.randint(min_val, max_val) for _ in range(size)]\n"
   ]
  },
  {
   "cell_type": "code",
   "execution_count": 36,
   "metadata": {},
   "outputs": [],
   "source": [
    "# Insertion Sort\n",
    "def insertion_sort(arr):  \n",
    "    n = len(arr)\n",
    "    for i in range(1, n):   #4 1 2 7\n",
    "        key = arr[i]\n",
    "        j = i - 1\n",
    "        while j >= 0 and arr[j] > key:\n",
    "            arr[j + 1] = arr[j]\n",
    "            j -= 1\n",
    "        arr[j + 1] = key"
   ]
  },
  {
   "cell_type": "code",
   "execution_count": 37,
   "metadata": {},
   "outputs": [],
   "source": [
    "# Selection Sort \n",
    "def selection_sort(arr): # 7 4 8 1\n",
    "    n = len(arr)\n",
    "    for i in range(n):\n",
    "        min_index = i\n",
    "        for j in range(i + 1, n):\n",
    "            if arr[j] < arr[min_index]: \n",
    "                min_index = j\n",
    "        if min_index != i:  \n",
    "            arr[i], arr[min_index] = arr[min_index], arr[i] #1 swap per iteration \n"
   ]
  },
  {
   "cell_type": "code",
   "execution_count": 38,
   "metadata": {},
   "outputs": [],
   "source": [
    "# Bubble Sort\n",
    "def bubble_sort(arr): #3 6 1 2 #1234\n",
    "    n = len(arr) \n",
    "    for i in range(n, 0, -1):  \n",
    "        swapped = False\n",
    "        for j in range(i - 1):  #j=0 ; j<i-1\n",
    "            if arr[j] > arr[j + 1]:  \n",
    "                arr[j], arr[j + 1] = arr[j + 1], arr[j]  \n",
    "                swapped = True  \n",
    "        if not swapped: \n",
    "            break "
   ]
  },
  {
   "cell_type": "code",
   "execution_count": null,
   "metadata": {},
   "outputs": [],
   "source": [
    "# to measure sorting time\n",
    "def measure_time(sort_function, arr):\n",
    "    arr_copy = arr.copy()  # More efficient copying\n",
    "    start_time = time.time()\n",
    "    sort_function(arr_copy)\n",
    "    end_time = time.time()\n",
    "    return (end_time - start_time) * 1000 \n",
    "\n",
    "def test_sorting_and_plot():\n",
    "    array_sizes = [1000, 2500, 5000, 10000, 25000, 50000]  \n",
    "    insertion_times = []\n",
    "    selection_times = []\n",
    "    bubble_times = []\n",
    "\n",
    "    for size in array_sizes: #size 1000 ]\n",
    "        arr = generate_random_array(size)  \n",
    "\n",
    "        insertion_times.append(measure_time(insertion_sort, arr))\n",
    "        selection_times.append(measure_time(selection_sort, arr))\n",
    "        bubble_times.append(measure_time(bubble_sort, arr))\n",
    "\n",
    "        print(f\"\\nArray Size: {size}\")\n",
    "        print(f\"Insertion Sort Time: {insertion_times[-1]:.2f} ms\")\n",
    "        print(f\"Selection Sort Time: {selection_times[-1]:.2f} ms\")\n",
    "        print(f\"Bubble Sort Time: {bubble_times[-1]:.2f} ms\")\n",
    "\n",
    "    # Plot results\n",
    "    plt.figure(figsize=(10, 6))\n",
    "    plt.plot(array_sizes, insertion_times, marker='o', linestyle='-', color='r', label=\"Insertion Sort\")\n",
    "    plt.plot(array_sizes, selection_times, marker='s', linestyle='-', color='g', label=\"Selection Sort\")\n",
    "    plt.plot(array_sizes, bubble_times, marker='^', linestyle='-', color='b', label=\"Bubble Sort\")\n",
    "    \n",
    "    plt.xlabel(\"Array Size\")\n",
    "    plt.ylabel(\"Time (ms)\")\n",
    "    plt.title(\"Sorting Algorithms: Time Complexity Analysis\")\n",
    "    plt.legend()\n",
    "    plt.grid(True)\n",
    "    plt.show()\n",
    "\n",
    "test_sorting_and_plot()"
   ]
  },
  {
   "cell_type": "markdown",
   "metadata": {},
   "source": [
    "# Assignment 2\n"
   ]
  },
  {
   "cell_type": "markdown",
   "metadata": {},
   "source": [
    "## Quick Sort"
   ]
  },
  {
   "cell_type": "code",
   "execution_count": 27,
   "metadata": {},
   "outputs": [],
   "source": [
    "def partition(arr, low, high):\n",
    "\n",
    "    # Choose a random pivot and swap it with the last element\n",
    "    #to avoid worst case scenario\n",
    "    pivot_index = random.randint(low, high)\n",
    "    arr[pivot_index], arr[high] = arr[high], arr[pivot_index]\n",
    "    pivot = arr[high]  # Pivot is now the last element\n",
    "    \n",
    "    i = low  # Start i from low\n",
    "    \n",
    "    for j in range(low, high):\n",
    "        if arr[j] < pivot:\n",
    "            arr[i], arr[j] = arr[j], arr[i]  # Swap smaller element with arr[i]\n",
    "            i += 1  # Move i to next position for smaller elements\n",
    "\n",
    "    # Swap pivot with arr[i], now pivot is in the right place\n",
    "    arr[i], arr[high] = arr[high], arr[i]\n",
    "    \n",
    "    return i  # Pivot index"
   ]
  },
  {
   "cell_type": "code",
   "execution_count": 28,
   "metadata": {},
   "outputs": [],
   "source": [
    "def quick_sort(arr, low, high):\n",
    "    if low < high:\n",
    "        pivot_index = partition(arr, low, high)  #  Get the pivot index\n",
    "        quick_sort(arr, low, pivot_index - 1)  # sort left part\n",
    "        quick_sort(arr, pivot_index + 1, high)  # sort right part"
   ]
  },
  {
   "cell_type": "markdown",
   "metadata": {},
   "source": [
    "## Quick Sort image"
   ]
  },
  {
   "cell_type": "markdown",
   "metadata": {},
   "source": [
    "![Quick Sort Image](https://imgs.search.brave.com/M3MhTxiMV69WJcGBXI3q2jqFj_YKdytAby40HPkWfTg/rs:fit:860:0:0:0/g:ce/aHR0cHM6Ly9zMy5h/bWF6b25hd3MuY29t/L2hyLWNoYWxsZW5n/ZS1pbWFnZXMvcXVp/Y2stc29ydC9RdWlj/a1NvcnRJblBsYWNl/LnBuZw)\n"
   ]
  },
  {
   "cell_type": "markdown",
   "metadata": {},
   "source": [
    "## Merge Sort"
   ]
  },
  {
   "cell_type": "code",
   "execution_count": 18,
   "metadata": {},
   "outputs": [],
   "source": [
    "def merge_sort(arr):\n",
    "    if len(arr) <= 1:\n",
    "        return  # Base case: 1 or no elements ,so it's already sorted\n",
    "\n",
    "    # middle index to split the array\n",
    "    mid = len(arr) // 2  \n",
    "    left_half = arr[:mid] \n",
    "    right_half = arr[mid:]  \n",
    "\n",
    "    merge_sort(left_half)\n",
    "    merge_sort(right_half)\n",
    "\n",
    "    # then merging them together\n",
    "    merge(arr, left_half, right_half)\n",
    "\n",
    "# MERGING IN PLACE FOR BETTER SPACE COMPLEXITY"
   ]
  },
  {
   "cell_type": "code",
   "execution_count": 19,
   "metadata": {},
   "outputs": [],
   "source": [
    "def merge(arr, left_half, right_half):\n",
    "    \n",
    "    i = j = k = 0 # i for left_half, j for right_half, k for main array\n",
    "\n",
    "    # Compare elements from left_half and right_half and merge them\n",
    "\n",
    "    while i < len(left_half) and j < len(right_half):\n",
    "        if left_half[i] < right_half[j]:\n",
    "            arr[k] = left_half[i]\n",
    "            i += 1  # Move to the next element in left half\n",
    "        else:\n",
    "            arr[k] = right_half[j]\n",
    "            j += 1  # Move to the next element in right half\n",
    "        k += 1  # Move to the next position in the main array\n",
    "\n",
    "    # Copy any remaining elements from left half\n",
    "    while i < len(left_half):\n",
    "        arr[k] = left_half[i]\n",
    "        i += 1\n",
    "        k += 1\n",
    "\n",
    "    # Copy any remaining elements from right half\n",
    "    while j < len(right_half):\n",
    "        arr[k] = right_half[j]\n",
    "        j += 1\n",
    "        k += 1"
   ]
  },
  {
   "cell_type": "code",
   "execution_count": 20,
   "metadata": {},
   "outputs": [],
   "source": [
    "def heapify(arr, n, i):\n",
    "       \n",
    "    largest = i  # Assume root is the largest\n",
    "    left = 2 * i + 1  # Left child index\n",
    "    right = 2 * i + 2  # Right child index\n",
    "\n",
    "    # Check if left child exists and is greater than root\n",
    "    if left < n and arr[left] > arr[largest]:\n",
    "        largest = left\n",
    "\n",
    "    # Check if right child exists and is greater than current largest\n",
    "    if right < n and arr[right] > arr[largest]:\n",
    "        largest = right\n",
    "\n",
    "    # If largest is not root, swap and continue heapifying\n",
    "    if largest != i:\n",
    "        arr[i], arr[largest] = arr[largest], arr[i]  # Swap\n",
    "        heapify(arr, n, largest)  # Recursively heapify the affected subtree\n"
   ]
  },
  {
   "cell_type": "code",
   "execution_count": 21,
   "metadata": {},
   "outputs": [],
   "source": [
    "def build_max_heap(arr):\n",
    "    \n",
    "    # This function converts an unsorted array into a max-heap.\n",
    "    #  starts from the last non-leaf node and moves up.\n",
    "    \n",
    "    n = len(arr)\n",
    "    for i in range(n // 2 - 1, -1, -1):  # Start from the last non-leaf node\n",
    "        heapify(arr, n, i)"
   ]
  },
  {
   "cell_type": "code",
   "execution_count": 22,
   "metadata": {},
   "outputs": [],
   "source": [
    "def heap_sort(arr):\n",
    "    \n",
    "    # extracts the max element and re-heapifies the array.\n",
    "    \n",
    "    n = len(arr)\n",
    "\n",
    "    # Step 1: Build a max-heap\n",
    "    build_max_heap(arr)\n",
    "\n",
    "    # Step 2: Extract elements from the heap one by one\n",
    "    for i in range(n - 1, 0, -1):\n",
    "        arr[i], arr[0] = arr[0], arr[i]  # Swap max element to end\n",
    "        heapify(arr, i, 0)  # Restore heap property on the reduced heap"
   ]
  },
  {
   "cell_type": "code",
   "execution_count": 23,
   "metadata": {},
   "outputs": [
    {
     "name": "stdout",
     "output_type": "stream",
     "text": [
      "quick sort result: Sorted array: [-100, 0, 1, 5, 7, 8, 9, 10, 1000]\n",
      "...........................\n",
      "Merge sort result: Sorted array: [-100, 0, 1, 5, 7, 8, 9, 10, 1000]\n",
      "..................................\n",
      "Heap sort result: Sorted array: [-100, 0, 1, 5, 7, 8, 9, 10, 1000]\n"
     ]
    }
   ],
   "source": [
    "# Example usage\n",
    "arr1 = [0,10, 7, 8, 9,-100,1000 ,1, 5]\n",
    "quick_sort(arr1, 0, len(arr1) - 1)\n",
    "print(\"quick sort result: Sorted array:\", arr1)\n",
    "print(\"...........................\")\n",
    "\n",
    "arr2 = [0,10, 7, 8, 9,-100,1000 ,1, 5]\n",
    "merge_sort(arr2)\n",
    "print(\"Merge sort result: Sorted array:\", arr2)\n",
    "arr3 = [0,10, 7, 8, 9,-100,1000 ,1, 5]\n",
    "print(\"..................................\")\n",
    "heap_sort(arr3)\n",
    "print(\"Heap sort result: Sorted array:\", arr3)"
   ]
  },
  {
   "cell_type": "markdown",
   "metadata": {},
   "source": [
    "#  Find Kth smallest Element in Unsorted Array"
   ]
  },
  {
   "cell_type": "code",
   "execution_count": 29,
   "metadata": {},
   "outputs": [],
   "source": [
    "def quick_select(arr, low, high, k):\n",
    "    if low <= high: #base case\n",
    "        \n",
    "        pivot_index = partition(arr, low, high)\n",
    "\n",
    "        if pivot_index == k - 1:   #pivot is the smallest element as arr zero indexed\n",
    "            return arr[pivot_index]\n",
    "        elif pivot_index > k - 1:\n",
    "            return quick_select(arr, low, pivot_index - 1, k)\n",
    "        else:\n",
    "            return quick_select(arr, pivot_index + 1, high, k)\n",
    "\n",
    "    return None"
   ]
  },
  {
   "cell_type": "code",
   "execution_count": 32,
   "metadata": {},
   "outputs": [
    {
     "name": "stdout",
     "output_type": "stream",
     "text": [
      "3rd smallest element is : 25\n",
      "5th smallest element is : 41\n"
     ]
    }
   ],
   "source": [
    "arr = [3, 41, 16, 25, 63, 52, 40]\n",
    "k = 3  \n",
    "result = quick_select(arr, 0, len(arr) - 1, k)\n",
    "print(f\"{k}rd smallest element is : {result}\")\n",
    "\n",
    "arr = [3, 41, 16, 25, 63, 52, 40]\n",
    "k = 5  \n",
    "result = quick_select(arr, 0, len(arr) - 1, k)\n",
    "print(f\"{k}th smallest element is : {result}\")"
   ]
  },
  {
   "cell_type": "markdown",
   "metadata": {},
   "source": [
    "# Graph"
   ]
  },
  {
   "cell_type": "code",
   "execution_count": null,
   "metadata": {},
   "outputs": [
    {
     "name": "stdout",
     "output_type": "stream",
     "text": [
      "\n",
      "Array Size: 1000\n",
      "Quick Sort Time: 2.45 ms\n",
      "Merge Sort Time: 4.41 ms\n",
      "Heap Sort Time: 3.56 ms\n",
      "\n",
      "Array Size: 2500\n",
      "Quick Sort Time: 34.34 ms\n",
      "Merge Sort Time: 16.57 ms\n",
      "Heap Sort Time: 15.24 ms\n",
      "\n",
      "Array Size: 5000\n",
      "Quick Sort Time: 12.66 ms\n",
      "Merge Sort Time: 13.55 ms\n",
      "Heap Sort Time: 18.28 ms\n",
      "\n",
      "Array Size: 10000\n",
      "Quick Sort Time: 29.31 ms\n",
      "Merge Sort Time: 32.77 ms\n",
      "Heap Sort Time: 84.64 ms\n",
      "\n",
      "Array Size: 25000\n",
      "Quick Sort Time: 71.53 ms\n",
      "Merge Sort Time: 112.86 ms\n",
      "Heap Sort Time: 146.62 ms\n",
      "\n",
      "Array Size: 50000\n",
      "Quick Sort Time: 154.77 ms\n",
      "Merge Sort Time: 282.77 ms\n",
      "Heap Sort Time: 339.09 ms\n",
      "\n",
      "Array Size: 75000\n",
      "Quick Sort Time: 257.96 ms\n",
      "Merge Sort Time: 335.15 ms\n",
      "Heap Sort Time: 533.31 ms\n",
      "\n",
      "Array Size: 100000\n",
      "Quick Sort Time: 364.74 ms\n",
      "Merge Sort Time: 436.28 ms\n",
      "Heap Sort Time: 699.88 ms\n",
      "\n",
      "Array Size: 125000\n",
      "Quick Sort Time: 465.99 ms\n",
      "Merge Sort Time: 537.82 ms\n",
      "Heap Sort Time: 970.05 ms\n",
      "\n",
      "Array Size: 150000\n",
      "Quick Sort Time: 534.04 ms\n",
      "Merge Sort Time: 703.45 ms\n",
      "Heap Sort Time: 1105.70 ms\n",
      "\n",
      "Array Size: 175000\n",
      "Quick Sort Time: 595.66 ms\n",
      "Merge Sort Time: 820.00 ms\n",
      "Heap Sort Time: 1364.93 ms\n",
      "\n",
      "Array Size: 200000\n",
      "Quick Sort Time: 763.59 ms\n",
      "Merge Sort Time: 948.95 ms\n",
      "Heap Sort Time: 1717.15 ms\n"
     ]
    },
    {
     "data": {
      "image/png": "[encoded data removed]",
      "text/plain": [
       "<Figure size 1200x700 with 1 Axes>"
      ]
     },
     "metadata": {},
     "output_type": "display_data"
    }
   ],
   "source": [
    "def measure_time(sort_function, arr, *args):\n",
    "    arr_copy = arr.copy()\n",
    "    start_time = time.time()\n",
    "\n",
    "    sort_function(arr_copy, *args)\n",
    "\n",
    "    end_time = time.time()\n",
    "    return (end_time - start_time) * 1000  \n",
    "\n",
    "# Function to test and plot\n",
    "def test_sorting_and_plot():\n",
    "    array_sizes = [1000, 2500, 5000, 10000, 25000, 50000, 75000, 100000, 125000, 150000, 175000, 200000]\n",
    "    quick_times = []\n",
    "    merge_times = []\n",
    "    heap_times = []\n",
    "\n",
    "    for size in array_sizes:\n",
    "        arr = generate_random_array(size)\n",
    "\n",
    "        # Time Quick Sort\n",
    "        quick_time = measure_time(quick_sort, arr, 0, len(arr) - 1)\n",
    "        quick_times.append(quick_time)\n",
    "\n",
    "        # Time Merge Sort\n",
    "        merge_time = measure_time(merge_sort, arr)\n",
    "        merge_times.append(merge_time)\n",
    "\n",
    "        # Time Heap Sort\n",
    "        heap_time = measure_time(heap_sort, arr)\n",
    "        heap_times.append(heap_time)\n",
    "\n",
    "        print(f\"\\nArray Size: {size}\")\n",
    "        print(f\"Quick Sort Time: {quick_time:.2f} ms\")\n",
    "        print(f\"Merge Sort Time: {merge_time:.2f} ms\")\n",
    "        print(f\"Heap Sort Time: {heap_time:.2f} ms\")\n",
    "\n",
    "    # Plot results\n",
    "    plt.figure(figsize=(12, 7))\n",
    "    plt.plot(array_sizes, quick_times, marker='o', linestyle='-', color='r', label=\"Quick Sort\")\n",
    "    plt.plot(array_sizes, merge_times, marker='s', linestyle='-', color='g', label=\"Merge Sort\")\n",
    "    plt.plot(array_sizes, heap_times, marker='^', linestyle='-', color='b', label=\"Heap Sort\")\n",
    "\n",
    "    plt.xlabel(\"Array Size\")\n",
    "    plt.ylabel(\"Time (ms)\")\n",
    "    plt.title(\"Sorting Algorithms: Time Complexity Analysis\")\n",
    "    plt.legend()\n",
    "    plt.grid(True)\n",
    "    plt.show()\n",
    "\n",
    "# Run the test\n",
    "test_sorting_and_plot()"
   ]
  },
  {
   "cell_type": "markdown",
   "metadata": {},
   "source": [
    "# Final Graph "
   ]
  },
  {
   "cell_type": "code",
   "execution_count": null,
   "metadata": {},
   "outputs": [
    {
     "name": "stdout",
     "output_type": "stream",
     "text": [
      "\n",
      "Array Size: 1000\n",
      "Quick Sort Time: 4.69 ms\n",
      "Merge Sort Time: 5.89 ms\n",
      "Heap Sort Time: 3.82 ms\n",
      "Insertion Sort Time: 31.28 ms\n",
      "Bubble Sort Time: 56.77 ms\n",
      "Selection Sort Time: 26.60 ms\n",
      "\n",
      "Array Size: 2500\n",
      "Quick Sort Time: 4.42 ms\n",
      "Merge Sort Time: 7.03 ms\n",
      "Heap Sort Time: 7.52 ms\n",
      "Insertion Sort Time: 184.54 ms\n",
      "Bubble Sort Time: 417.85 ms\n",
      "Selection Sort Time: 182.68 ms\n",
      "\n",
      "Array Size: 5000\n",
      "Quick Sort Time: 11.80 ms\n",
      "Merge Sort Time: 14.17 ms\n",
      "Heap Sort Time: 21.33 ms\n",
      "Insertion Sort Time: 861.22 ms\n",
      "Bubble Sort Time: 1963.49 ms\n",
      "Selection Sort Time: 1026.52 ms\n",
      "\n",
      "Array Size: 10000\n",
      "Quick Sort Time: 29.26 ms\n",
      "Merge Sort Time: 42.88 ms\n",
      "Heap Sort Time: 51.06 ms\n",
      "Insertion Sort Time: 5377.47 ms\n",
      "Bubble Sort Time: 7741.30 ms\n",
      "Selection Sort Time: 3549.83 ms\n",
      "\n",
      "Array Size: 25000\n",
      "Quick Sort Time: 88.55 ms\n",
      "Merge Sort Time: 102.55 ms\n",
      "Heap Sort Time: 171.43 ms\n",
      "Insertion Sort Time: 25410.41 ms\n",
      "Bubble Sort Time: 57691.36 ms\n",
      "Selection Sort Time: 27905.93 ms\n",
      "\n",
      "Array Size: 50000\n",
      "Quick Sort Time: 178.24 ms\n",
      "Merge Sort Time: 223.18 ms\n",
      "Heap Sort Time: 304.64 ms\n",
      "Insertion Sort Time: 105213.58 ms\n",
      "Bubble Sort Time: 240452.81 ms\n",
      "Selection Sort Time: 119717.44 ms\n"
     ]
    }
   ],
   "source": [
    "def measure_time(sort_function, arr, *args):\n",
    "    arr_copy = arr.copy()\n",
    "    start_time = time.time()\n",
    "\n",
    "    sort_function(arr_copy, *args)\n",
    "\n",
    "    end_time = time.time()\n",
    "    return (end_time - start_time) * 1000  \n",
    "\n",
    "# Function to test and plot\n",
    "def test_sorting_and_plot():\n",
    "    array_sizes = [1000, 2500, 5000, 10000, 25000, 50000, 75000, 100000, 125000, 150000, 175000, 200000]\n",
    "    quick_times = []\n",
    "    merge_times = []\n",
    "    heap_times = []\n",
    "    insertion_times = []\n",
    "    bubble_times = []\n",
    "    selection_times = []\n",
    "\n",
    "    for size in array_sizes:\n",
    "        arr = generate_random_array(size)\n",
    "\n",
    "        \n",
    "        quick_time = measure_time(quick_sort, arr, 0, len(arr) - 1)\n",
    "        quick_times.append(quick_time)\n",
    "\n",
    "        \n",
    "        merge_time = measure_time(merge_sort, arr)\n",
    "        merge_times.append(merge_time)\n",
    "\n",
    "        \n",
    "        heap_time = measure_time(heap_sort, arr)\n",
    "        heap_times.append(heap_time)\n",
    "\n",
    "        \n",
    "        insertion_time = measure_time(insertion_sort, arr)\n",
    "        insertion_times.append(insertion_time)\n",
    "\n",
    "        \n",
    "        bubble_time = measure_time(bubble_sort, arr)\n",
    "        bubble_times.append(bubble_time)\n",
    "\n",
    "        \n",
    "        selection_time = measure_time(selection_sort, arr)\n",
    "        selection_times.append(selection_time)\n",
    "\n",
    "        print(f\"\\nArray Size: {size}\")\n",
    "        print(f\"Quick Sort Time: {quick_time:.2f} ms\")\n",
    "        print(f\"Merge Sort Time: {merge_time:.2f} ms\")\n",
    "        print(f\"Heap Sort Time: {heap_time:.2f} ms\")\n",
    "        print(f\"Insertion Sort Time: {insertion_time:.2f} ms\")\n",
    "        print(f\"Bubble Sort Time: {bubble_time:.2f} ms\")\n",
    "        print(f\"Selection Sort Time: {selection_time:.2f} ms\")\n",
    "\n",
    "    plt.figure(figsize=(14, 8))\n",
    "\n",
    "    plt.plot(array_sizes, quick_times, marker='o', linestyle='-', color='r', label=\"Quick Sort\")\n",
    "    plt.plot(array_sizes, merge_times, marker='s', linestyle='-', color='g', label=\"Merge Sort\")\n",
    "    plt.plot(array_sizes, heap_times, marker='^', linestyle='-', color='b', label=\"Heap Sort\")\n",
    "    plt.plot(array_sizes, insertion_times, marker='d', linestyle='-', color='c', label=\"Insertion Sort\")\n",
    "    plt.plot(array_sizes, bubble_times, marker='x', linestyle='-', color='m', label=\"Bubble Sort\")\n",
    "    plt.plot(array_sizes, selection_times, marker='v', linestyle='-', color='y', label=\"Selection Sort\")\n",
    "\n",
    "    plt.xlabel(\"Array Size\")\n",
    "    plt.ylabel(\"Time (ms)\")\n",
    "    plt.title(\"Sorting Algorithms: Time Complexity Analysis\")\n",
    "    plt.legend()\n",
    "    plt.grid(True)\n",
    "    plt.show()\n",
    "\n",
    "test_sorting_and_plot()"
   ]
  }
 ],
 "metadata": {
  "kernelspec": {
   "display_name": ".venv",
   "language": "python",
   "name": "python3"
  },
  "language_info": {
   "codemirror_mode": {
    "name": "ipython",
    "version": 3
   },
   "file_extension": ".py",
   "mimetype": "text/x-python",
   "name": "python",
   "nbconvert_exporter": "python",
   "pygments_lexer": "ipython3",
   "version": "3.12.3"
  }
 },
 "nbformat": 4,
 "nbformat_minor": 2
}
