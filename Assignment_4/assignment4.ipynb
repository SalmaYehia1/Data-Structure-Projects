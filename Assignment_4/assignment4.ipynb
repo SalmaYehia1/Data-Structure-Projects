{
 "cells": [
  {
   "cell_type": "markdown",
   "metadata": {},
   "source": [
    "# Topological Sorting"
   ]
  },
  {
   "cell_type": "markdown",
   "metadata": {},
   "source": [
    "### Topological sorting for Directed Acyclic Graph `  (DAG)`   is a linear ordering of vertices such that for every directed edge u-v, vertex u comes before v in the ordering."
   ]
  },
  {
   "cell_type": "markdown",
   "metadata": {},
   "source": [
    "## Topological Sort: Queue vs. Stack\n",
    "\n",
    "### 1. Using a Queue (Preferred)\n",
    "- **Queue** follows **FIFO** and processes nodes in the correct topological order.\n",
    "- Nodes with in-degree 0 are enqueued, and as nodes are processed, their neighbors’ in-degrees are updated.\n",
    "\n",
    "### 2. Using a Stack\n",
    "- **Stack** follows **LIFO**, so it processes nodes in reverse topological order.\n",
    "- After processing, the stack must be **reversed** to get the correct order.\n",
    "\n"
   ]
  },
  {
   "cell_type": "markdown",
   "metadata": {},
   "source": [
    "1. **What is the time complexity of this topological sort algorithm?**\n",
    "   - **Answer**: **O(V + E)**: \n",
    "     - **O(V)** for calculating in-degrees.\n",
    "     - **O(E)** for iterating over edges to update in-degrees.\n",
    "\n",
    "2. **What would happen if the graph contains a cycle?**\n",
    "   - **Answer**: The algorithm detects the cycle by checking `count != V`. If true, topological sort is not possible.\n",
    "\n",
    "3. **Can this algorithm work with a cyclic graph?**\n",
    "   - **Answer**: No, it assumes a **DAG** (Directed Acyclic Graph). If a cycle exists, it won't return a valid topological order.\n",
    "\n"
   ]
  },
  {
   "cell_type": "code",
   "execution_count": 31,
   "metadata": {},
   "outputs": [
    {
     "name": "stdout",
     "output_type": "stream",
     "text": [
      "Initial in-degrees: [2, 2, 1, 1, 0, 0]\n",
      "Starting nodes (0 in-degree): [4, 5]\n",
      "Node 4 added to topological order.\n",
      "Decreased in-degree of node 0 to 1.\n",
      "Decreased in-degree of node 1 to 1.\n",
      "Node 5 added to topological order.\n",
      "Decreased in-degree of node 2 to 0.\n",
      "Node 2 added to queue.\n",
      "Decreased in-degree of node 0 to 0.\n",
      "Node 0 added to queue.\n",
      "Node 2 added to topological order.\n",
      "Decreased in-degree of node 3 to 0.\n",
      "Node 3 added to queue.\n",
      "Node 0 added to topological order.\n",
      "Node 3 added to topological order.\n",
      "Decreased in-degree of node 1 to 0.\n",
      "Node 1 added to queue.\n",
      "Node 1 added to topological order.\n",
      "Topological Sort Result: [4, 5, 2, 0, 3, 1]\n"
     ]
    }
   ],
   "source": [
    "from collections import defaultdict, deque\n",
    "\n",
    "class Graph:\n",
    "    def __init__(self, vertices):\n",
    "        self.graph = defaultdict(list)  # adjacency list\n",
    "        self.V = vertices               # number of vertices\n",
    "\n",
    "    def add_edge(self, u, v):\n",
    "        self.graph[u].append(v)        # edge from node u to node v\n",
    "\n",
    "    def topological_sort(self):\n",
    "        # Step 1: Calculate in-degrees of all nodes\n",
    "        in_degree = [0] * self.V\n",
    "        for u in self.graph:\n",
    "            for v in self.graph[u]:\n",
    "                in_degree[v] += 1\n",
    "\n",
    "        print(\"Initial in-degrees:\", in_degree)  \n",
    "\n",
    "        # Step 2: Enqueue nodes with 0 in-degree\n",
    "        queue = deque()\n",
    "        for i in range(self.V):\n",
    "            if in_degree[i] == 0:\n",
    "                queue.append(i) #appened all zero degree nodes.\n",
    "\n",
    "        print(\"Starting nodes (0 in-degree):\", list(queue))  # tracing\n",
    "\n",
    "        # Step 3: Process the graph\n",
    "        topo_order = []\n",
    "        #count is a variable that is incremented each time a node is\n",
    "        # removed from the queue and added to the topological order.\n",
    "        #It keeps track of how many nodes we have successfully sorted.\n",
    "        count = 0\n",
    "\n",
    "        while queue:\n",
    "            u = queue.popleft()\n",
    "            topo_order.append(u)\n",
    "            print(f\"Node {u} added to topological order.\")  # tracing\n",
    "\n",
    "            for v in self.graph[u]:\n",
    "                in_degree[v] -= 1\n",
    "                print(f\"Decreased in-degree of node {v} to {in_degree[v]}.\")  # tracing\n",
    "                if in_degree[v] == 0:\n",
    "                    queue.append(v)\n",
    "                    print(f\"Node {v} added to queue.\")  # tracing\n",
    "\n",
    "            count += 1\n",
    "#if there's a cycle, at least one node will always have a non-zero in-degree,\n",
    "# because it's waiting for another node that depends on it — forming a loop!\n",
    "        if count != self.V:\n",
    "            print(\"Cycle detected! No topological ordering possible.\")\n",
    "        else:\n",
    "            print(\"Topological Sort Result:\", topo_order)\n",
    "\n",
    "        return topo_order\n",
    "\n",
    "\n",
    "# Create graph instance\n",
    "g = Graph(6)\n",
    "g.add_edge(5, 2)\n",
    "g.add_edge(5, 0)\n",
    "g.add_edge(4, 0)\n",
    "g.add_edge(4, 1)\n",
    "g.add_edge(2, 3)\n",
    "g.add_edge(3, 1)\n",
    "\n",
    "# Perform topological sort\n",
    "topo = g.topological_sort()\n"
   ]
  },
  {
   "cell_type": "markdown",
   "metadata": {},
   "source": [
    "# Prim’s Algorithm for Minimum Spanning Tree (MST)"
   ]
  },
  {
   "cell_type": "markdown",
   "metadata": {},
   "source": [
    "### Time Complexity -> `O((E+V)*log(V))`"
   ]
  },
  {
   "cell_type": "markdown",
   "metadata": {},
   "source": [
    "###  Time Complexity Breakdown\n",
    "\n",
    " **Total cost of pops** → `O(V log V)`  \n",
    "- We pop from the heap once for each node (at most `V` times).  \n",
    "- Each `pop` takes `O(log V)` time (because the heap has up to `V` elements).  \n",
    "\n",
    " **Total cost of pushes** → `O(E log V)`  \n",
    "- We push each edge into the heap (up to `E` times).  \n",
    "- Each `push` takes `O(log V)` time.\n",
    "\n",
    " **Total time complexity**  \n",
    "\\[\n",
    "O(V \\log V) + O(E \\log V) = O((V + E) \\log V)\n",
    "\\]\n",
    "\n",
    "**Total= O(VlogV)+O(ElogV)=`O((V+E)logV)`**\n",
    "\n",
    "\n"
   ]
  },
  {
   "cell_type": "markdown",
   "metadata": {},
   "source": [
    "###  Disadvantages\n",
    "\n",
    "1. **Performance:** Can be slow on dense graphs with many edges, as it requires iterating over all edges at least once.  \n",
    "2. **Memory usage:** Relies on a priority queue, which can take up extra memory and slow down the algorithm on very large graphs.  \n",
    "3. **Start node sensitivity:** The choice of starting node can affect the MST output.\n"
   ]
  },
  {
   "cell_type": "code",
   "execution_count": null,
   "metadata": {},
   "outputs": [
    {
     "name": "stdout",
     "output_type": "stream",
     "text": [
      "Starting Prim's Algorithm from node: 0\n",
      "Consider edge: (0 - 1, weight: 4)\n",
      "Consider edge: (0 - 2, weight: 3)\n",
      "Added edge: (0 - 2, weight: 3)\n",
      "Consider edge: (2 - 1, weight: 1)\n",
      "Consider edge: (2 - 3, weight: 4)\n",
      "Added edge: (2 - 1, weight: 1)\n",
      "Consider edge: (1 - 3, weight: 2)\n",
      "Added edge: (1 - 3, weight: 2)\n",
      "Consider edge: (3 - 4, weight: 2)\n",
      "Added edge: (3 - 4, weight: 2)\n",
      "Consider edge: (4 - 5, weight: 6)\n",
      "Added edge: (4 - 5, weight: 6)\n",
      "\n",
      "Total weight of MST: 14\n"
     ]
    },
    {
     "data": {
      "text/plain": [
       "([(0, 2, 3), (2, 1, 1), (1, 3, 2), (3, 4, 2), (4, 5, 6)], 14)"
      ]
     },
     "execution_count": 23,
     "metadata": {},
     "output_type": "execute_result"
    }
   ],
   "source": [
    "import heapq\n",
    "from collections import defaultdict\n",
    "\n",
    "class Graph:\n",
    "    def __init__(self):\n",
    "        self.graph = defaultdict(list)  # adjacency list: u -> [(v, weight)]\n",
    "#why defaultdict?\n",
    "#If you try to access or modify a key that doesn't exist in the dictionary, \n",
    "# it will automatically create a new entry for that key with a default value.\n",
    "   \n",
    "    def add_edge(self, u, v, weight):\n",
    "        # Since the graph is undirected, add both u->v and v->u\n",
    "        #no need for graph[0] = [] as it will be created automatically\n",
    "        #as it adds empty list even if the key doesn't exist.\n",
    "        # This is a tuple (v, weight) \n",
    "        #immutable and ordered\n",
    "        #Ordering: Ensures that each element in the tuple has a specific place \n",
    "        #first for the node, second for the weight\n",
    "\n",
    "        self.graph[u].append((v, weight))\n",
    "        self.graph[v].append((u, weight))\n",
    "\n",
    "    def prim_mst(self, start):\n",
    "        visited = set()  #prevent revisiting nodes\n",
    "        min_heap = [(0, start, -1)]  # (weight, current_vertex, parent_vertex)\n",
    "        mst_edges = []\n",
    "        total_weight = 0\n",
    "\n",
    "        print(\"Starting Prim's Algorithm from node:\", start)\n",
    "\n",
    "        while min_heap:\n",
    "            weight, u, parent = heapq.heappop(min_heap)\n",
    "\n",
    "            if u in visited:\n",
    "                continue\n",
    "\n",
    "            visited.add(u)\n",
    "            total_weight += weight\n",
    "\n",
    "            if parent != -1:\n",
    "                mst_edges.append((parent, u, weight))\n",
    "                print(f\"Added edge: ({parent} - {u}, weight: {weight})\")\n",
    "\n",
    "            for v, w in self.graph[u]:\n",
    "                if v not in visited:\n",
    "                    heapq.heappush(min_heap, (w, v, u))\n",
    "                    print(f\"Consider edge: ({u} - {v}, weight: {w})\")\n",
    "\n",
    "        print(\"\\nTotal weight of MST:\", total_weight)\n",
    "        return mst_edges, total_weight\n",
    "g = Graph()\n",
    "g.add_edge(0, 1, 4)\n",
    "g.add_edge(0, 2, 3)\n",
    "g.add_edge(1, 2, 1)\n",
    "g.add_edge(1, 3, 2)\n",
    "g.add_edge(2, 3, 4)\n",
    "g.add_edge(3, 4, 2)\n",
    "g.add_edge(4, 5, 6)\n",
    "\n",
    "g.prim_mst(0)\n",
    "\n",
    "#done tracing it\n",
    "\n",
    "\n"
   ]
  }
 ],
 "metadata": {
  "kernelspec": {
   "display_name": ".venv",
   "language": "python",
   "name": "python3"
  },
  "language_info": {
   "codemirror_mode": {
    "name": "ipython",
    "version": 3
   },
   "file_extension": ".py",
   "mimetype": "text/x-python",
   "name": "python",
   "nbconvert_exporter": "python",
   "pygments_lexer": "ipython3",
   "version": "3.12.3"
  }
 },
 "nbformat": 4,
 "nbformat_minor": 2
}
